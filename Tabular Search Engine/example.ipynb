{
 "cells": [
  {
   "cell_type": "markdown",
   "id": "75bd9425-8c6a-4950-82fe-fa7c1a94af13",
   "metadata": {},
   "source": [
    "# USING THE SEARCH ENGINE PACKAGE"
   ]
  },
  {
   "cell_type": "code",
   "execution_count": 1,
   "id": "1134a908-ff99-4313-b0b6-e4aa06e51ac7",
   "metadata": {},
   "outputs": [],
   "source": [
    "import pandas as pd\n",
    "import se_package.functions as se"
   ]
  },
  {
   "cell_type": "markdown",
   "id": "18d2043a-1002-43d3-8c08-22eb59076612",
   "metadata": {},
   "source": [
    "### Creates the search engine. This can take a minute..."
   ]
  },
  {
   "cell_type": "code",
   "execution_count": 2,
   "id": "5e64c401-c800-4e68-9dd6-209ab60a4fb2",
   "metadata": {},
   "outputs": [],
   "source": [
    "df = pd.read_parquet('random_instruments.parq')\n",
    "df = se.transform_dataframe(df, list(df.columns.values[1:]))\n",
    "index, analyzed_description = se.generate_index(df, 'Unique_ID')"
   ]
  },
  {
   "cell_type": "markdown",
   "id": "ce79a883-a9c6-4218-bcee-efe2f147bd19",
   "metadata": {},
   "source": [
    "### Search engine ready to use. Here are some examples"
   ]
  },
  {
   "cell_type": "markdown",
   "id": "364de394-9c8c-458a-b0bc-17c0efc70114",
   "metadata": {},
   "source": [
    "Please refer to the [search engine functionality](functionality.md) for additional details."
   ]
  },
  {
   "cell_type": "code",
   "execution_count": 3,
   "id": "52017617-4187-4341-b753-1f687e9416e3",
   "metadata": {},
   "outputs": [
    {
     "data": {
      "text/html": [
       "<div>\n",
       "<style scoped>\n",
       "    .dataframe tbody tr th:only-of-type {\n",
       "        vertical-align: middle;\n",
       "    }\n",
       "\n",
       "    .dataframe tbody tr th {\n",
       "        vertical-align: top;\n",
       "    }\n",
       "\n",
       "    .dataframe thead th {\n",
       "        text-align: right;\n",
       "    }\n",
       "</style>\n",
       "<table border=\"1\" class=\"dataframe\">\n",
       "  <thead>\n",
       "    <tr style=\"text-align: right;\">\n",
       "      <th></th>\n",
       "      <th>Unique_ID</th>\n",
       "      <th>SEARCH_SCORE</th>\n",
       "      <th>Instrument_Description</th>\n",
       "      <th>Asset_Class</th>\n",
       "      <th>Currency</th>\n",
       "      <th>Reference_Area</th>\n",
       "    </tr>\n",
       "  </thead>\n",
       "  <tbody>\n",
       "    <tr>\n",
       "      <th>5261</th>\n",
       "      <td>162983</td>\n",
       "      <td>0.88</td>\n",
       "      <td>Japan Bank for International Cooperation - Tod...</td>\n",
       "      <td>Government bond</td>\n",
       "      <td>US dollar</td>\n",
       "      <td>JP</td>\n",
       "    </tr>\n",
       "    <tr>\n",
       "      <th>3055</th>\n",
       "      <td>142819</td>\n",
       "      <td>0.88</td>\n",
       "      <td>Japan Bank for International Cooperation/Japan...</td>\n",
       "      <td>Government bond</td>\n",
       "      <td>US dollar</td>\n",
       "      <td>JP</td>\n",
       "    </tr>\n",
       "    <tr>\n",
       "      <th>7045</th>\n",
       "      <td>183365</td>\n",
       "      <td>0.88</td>\n",
       "      <td>Japan Bank for International Cooperation/Japan...</td>\n",
       "      <td>Government bond</td>\n",
       "      <td>US dollar</td>\n",
       "      <td>JP</td>\n",
       "    </tr>\n",
       "    <tr>\n",
       "      <th>3053</th>\n",
       "      <td>142807</td>\n",
       "      <td>0.88</td>\n",
       "      <td>Japan Bank for International Cooperation/Japan...</td>\n",
       "      <td>Government bond</td>\n",
       "      <td>US dollar</td>\n",
       "      <td>JP</td>\n",
       "    </tr>\n",
       "    <tr>\n",
       "      <th>3052</th>\n",
       "      <td>142793</td>\n",
       "      <td>0.88</td>\n",
       "      <td>JAPAN BANK FOR INTERNATIONAL COOPERATION - 2.1...</td>\n",
       "      <td>Government bond</td>\n",
       "      <td>US dollar</td>\n",
       "      <td>JP</td>\n",
       "    </tr>\n",
       "  </tbody>\n",
       "</table>\n",
       "</div>"
      ],
      "text/plain": [
       "      Unique_ID  SEARCH_SCORE  \\\n",
       "5261     162983          0.88   \n",
       "3055     142819          0.88   \n",
       "7045     183365          0.88   \n",
       "3053     142807          0.88   \n",
       "3052     142793          0.88   \n",
       "\n",
       "                                 Instrument_Description      Asset_Class  \\\n",
       "5261  Japan Bank for International Cooperation - Tod...  Government bond   \n",
       "3055  Japan Bank for International Cooperation/Japan...  Government bond   \n",
       "7045  Japan Bank for International Cooperation/Japan...  Government bond   \n",
       "3053  Japan Bank for International Cooperation/Japan...  Government bond   \n",
       "3052  JAPAN BANK FOR INTERNATIONAL COOPERATION - 2.1...  Government bond   \n",
       "\n",
       "       Currency Reference_Area  \n",
       "5261  US dollar             JP  \n",
       "3055  US dollar             JP  \n",
       "7045  US dollar             JP  \n",
       "3053  US dollar             JP  \n",
       "3052  US dollar             JP  "
      ]
     },
     "execution_count": 3,
     "metadata": {},
     "output_type": "execute_result"
    }
   ],
   "source": [
    "# OR\n",
    "query = 'Japan Bank \"Government\" '\n",
    "result = se.generate_result(df, query, index, analyzed_description, 'Unique_ID')\n",
    "result.head(5)"
   ]
  },
  {
   "cell_type": "code",
   "execution_count": 5,
   "id": "fd8194c9-fcf7-4d49-bad2-ee6a8d040dcf",
   "metadata": {},
   "outputs": [
    {
     "data": {
      "text/html": [
       "<div>\n",
       "<style scoped>\n",
       "    .dataframe tbody tr th:only-of-type {\n",
       "        vertical-align: middle;\n",
       "    }\n",
       "\n",
       "    .dataframe tbody tr th {\n",
       "        vertical-align: top;\n",
       "    }\n",
       "\n",
       "    .dataframe thead th {\n",
       "        text-align: right;\n",
       "    }\n",
       "</style>\n",
       "<table border=\"1\" class=\"dataframe\">\n",
       "  <thead>\n",
       "    <tr style=\"text-align: right;\">\n",
       "      <th></th>\n",
       "      <th>Unique_ID</th>\n",
       "      <th>SEARCH_SCORE</th>\n",
       "      <th>Instrument_Description</th>\n",
       "      <th>Asset_Class</th>\n",
       "      <th>Currency</th>\n",
       "      <th>Reference_Area</th>\n",
       "    </tr>\n",
       "  </thead>\n",
       "  <tbody>\n",
       "    <tr>\n",
       "      <th>30796</th>\n",
       "      <td>178202</td>\n",
       "      <td>1.0</td>\n",
       "      <td>Great Britain 3-year 9-month Zero coupon Yield...</td>\n",
       "      <td>Zero-coupon yield bond</td>\n",
       "      <td>UK pound sterling</td>\n",
       "      <td>GB</td>\n",
       "    </tr>\n",
       "    <tr>\n",
       "      <th>5051</th>\n",
       "      <td>19068</td>\n",
       "      <td>1.0</td>\n",
       "      <td>Switzerland 8-year Zero coupon Yield Curve - S...</td>\n",
       "      <td>Zero-coupon yield bond</td>\n",
       "      <td>Swiss franc</td>\n",
       "      <td>CH</td>\n",
       "    </tr>\n",
       "    <tr>\n",
       "      <th>5066</th>\n",
       "      <td>19137</td>\n",
       "      <td>1.0</td>\n",
       "      <td>Canada 2-year Zero coupon Yield Curve - Ask pr...</td>\n",
       "      <td>Zero-coupon yield bond</td>\n",
       "      <td>Canadian dollar</td>\n",
       "      <td>CA</td>\n",
       "    </tr>\n",
       "    <tr>\n",
       "      <th>5065</th>\n",
       "      <td>19136</td>\n",
       "      <td>1.0</td>\n",
       "      <td>Canada 1-year 9-month Zero coupon Yield Curve ...</td>\n",
       "      <td>Zero-coupon yield bond</td>\n",
       "      <td>Canadian dollar</td>\n",
       "      <td>CA</td>\n",
       "    </tr>\n",
       "    <tr>\n",
       "      <th>27231</th>\n",
       "      <td>147781</td>\n",
       "      <td>1.0</td>\n",
       "      <td>Euro Area 7-year Zero coupon benchmark Yield C...</td>\n",
       "      <td>Zero-coupon yield bond</td>\n",
       "      <td>Euro</td>\n",
       "      <td>U2</td>\n",
       "    </tr>\n",
       "  </tbody>\n",
       "</table>\n",
       "</div>"
      ],
      "text/plain": [
       "       Unique_ID  SEARCH_SCORE  \\\n",
       "30796     178202           1.0   \n",
       "5051       19068           1.0   \n",
       "5066       19137           1.0   \n",
       "5065       19136           1.0   \n",
       "27231     147781           1.0   \n",
       "\n",
       "                                  Instrument_Description  \\\n",
       "30796  Great Britain 3-year 9-month Zero coupon Yield...   \n",
       "5051   Switzerland 8-year Zero coupon Yield Curve - S...   \n",
       "5066   Canada 2-year Zero coupon Yield Curve - Ask pr...   \n",
       "5065   Canada 1-year 9-month Zero coupon Yield Curve ...   \n",
       "27231  Euro Area 7-year Zero coupon benchmark Yield C...   \n",
       "\n",
       "                  Asset_Class           Currency Reference_Area  \n",
       "30796  Zero-coupon yield bond  UK pound sterling             GB  \n",
       "5051   Zero-coupon yield bond        Swiss franc             CH  \n",
       "5066   Zero-coupon yield bond    Canadian dollar             CA  \n",
       "5065   Zero-coupon yield bond    Canadian dollar             CA  \n",
       "27231  Zero-coupon yield bond               Euro             U2  "
      ]
     },
     "execution_count": 5,
     "metadata": {},
     "output_type": "execute_result"
    }
   ],
   "source": [
    "# AND\n",
    "query = 'THE Yield Curve'\n",
    "result = se.generate_result(df, query, index, analyzed_description, 'Unique_ID')\n",
    "result.head(5)"
   ]
  },
  {
   "cell_type": "code",
   "execution_count": null,
   "id": "853799f6-3714-44c6-b2a6-84623cfc5843",
   "metadata": {},
   "outputs": [],
   "source": []
  }
 ],
 "metadata": {
  "kernelspec": {
   "display_name": "Python 3 (ipykernel)",
   "language": "python",
   "name": "python3"
  },
  "language_info": {
   "codemirror_mode": {
    "name": "ipython",
    "version": 3
   },
   "file_extension": ".py",
   "mimetype": "text/x-python",
   "name": "python",
   "nbconvert_exporter": "python",
   "pygments_lexer": "ipython3",
   "version": "3.9.11"
  }
 },
 "nbformat": 4,
 "nbformat_minor": 5
}
